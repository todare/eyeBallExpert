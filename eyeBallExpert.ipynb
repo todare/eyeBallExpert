{
 "cells": [
  {
   "cell_type": "markdown",
   "id": "a7691028-7be1-4d18-aec7-45bc08c364ce",
   "metadata": {},
   "source": [
    "# Eye-Tracking Expertise Classification\n",
    "## 1. Setup and Imports\n",
    "Imports necessary libraries for data generation, neural network modeling, data splitting, and visualization."
   ]
  },
  {
   "cell_type": "code",
   "execution_count": 14,
   "id": "fca7fad1-9b45-4998-b5fe-40b4907b65b4",
   "metadata": {},
   "outputs": [],
   "source": [
    "import numpy as np\n",
    "import torch\n",
    "import torch.nn as nn\n",
    "from sklearn.model_selection import train_test_split  # Added for train/test split\n",
    "import matplotlib.pyplot as plt  # Added for loss plotting\n",
    "%matplotlib inline  "
   ]
  },
  {
   "cell_type": "markdown",
   "id": "66def785-6d04-42b1-81a3-c337db364041",
   "metadata": {},
   "source": [
    "## 2. Synthetic Data Generation\n",
    "Generates 500 synthetic eye-tracking samples with 5 features: fixation duration (ms), saccade length (degrees), pupil diameter (mm), and gaze coordinates (x, y). Labels are assigned as 0 (novice) or 1 (expert) based on thresholds: fixation < 400ms and saccade < 20°. Includes a check for label balance."
   ]
  },
  {
   "cell_type": "code",
   "execution_count": 24,
   "id": "badb29f1-13bc-47c0-8cf1-621bb14b7a72",
   "metadata": {},
   "outputs": [
    {
     "name": "stdout",
     "output_type": "stream",
     "text": [
      "New Expert (1) count: 124 out of 500\n"
     ]
    }
   ],
   "source": [
    "# Set random seed for reproducibility\n",
    "np.random.seed(42)\n",
    "\n",
    "# Generate realistic eye movement data\n",
    "fixation_times = np.random.uniform(200, 600, 500)  # Fixation times in milliseconds\n",
    "saccade_lengths = np.random.uniform(1, 40, 500)   # Saccade lengths in degrees\n",
    "pupil_diameters = np.random.uniform(2, 8, 500)    # Pupil diameters in millimeters\n",
    "gaze_x_coords = np.random.uniform(0, 1920, 500)   # Gaze x-coordinates (assuming a 1920x1080 screen)\n",
    "gaze_y_coords = np.random.uniform(0, 1080, 500)   # Gaze y-coordinates\n",
    "\n",
    "# Combine into a single dataset\n",
    "data = np.vstack((fixation_times, saccade_lengths, pupil_diameters, gaze_x_coords, gaze_y_coords)).T\n",
    "\n",
    "# Smarter Labels - Adjusted for balance\n",
    "# Experts: fixation_times < 400 (instead of 300), saccade_lengths < 20 (instead of 10)\n",
    "labels = (fixation_times < 400) & (saccade_lengths < 20)\n",
    "labels = labels.astype(int)\n",
    "y = torch.tensor(labels, dtype=torch.long)\n",
    "\n",
    "# Check new balance\n",
    "print(\"New Expert (1) count:\", y.sum().item(), \"out of 500\")\n",
    "\n",
    "# Convert data to tensor\n",
    "X = torch.tensor(data, dtype=torch.float32)\n"
   ]
  },
  {
   "cell_type": "markdown",
   "id": "a153a836-236f-4c34-9ac8-8210dbfd9206",
   "metadata": {},
   "source": [
    "## 3. Data Preprocessing\n",
    "Normalizes the feature data to have a mean of 0 and standard deviation of 1. Splits the dataset into 80% training and 20% testing sets for model evaluation."
   ]
  },
  {
   "cell_type": "code",
   "execution_count": 25,
   "id": "88e40e62-0e60-493d-bd49-3cb70f14a680",
   "metadata": {},
   "outputs": [],
   "source": [
    "# Normalize the Data\n",
    "# Standardize features to mean=0, std=1\n",
    "X = (X - X.mean(dim=0)) / X.std(dim=0)"
   ]
  },
  {
   "cell_type": "code",
   "execution_count": 26,
   "id": "ad29231c-098c-4404-b5e1-263dadf5df4b",
   "metadata": {},
   "outputs": [],
   "source": [
    "# Split Train/Test\n",
    "# 80% train, 20% test\n",
    "X_train, X_test, y_train, y_test = train_test_split(X, y, test_size=0.2, random_state=42)"
   ]
  },
  {
   "cell_type": "code",
   "execution_count": 27,
   "id": "abcb0f51-3638-4872-ba14-5e0cafd0ef20",
   "metadata": {},
   "outputs": [
    {
     "name": "stdout",
     "output_type": "stream",
     "text": [
      "First 5 rows of data:\n",
      " [[349.81604754  28.22830685   3.11079757 996.63702746 282.64213843]\n",
      " [580.28572256  21.90775829   5.25140568 920.02920505 266.737103  ]\n",
      " [492.79757672  13.07157704   7.23767502  49.23276635 978.75494696]\n",
      " [439.46339368  32.73800577   6.39334932 655.19582904 269.50989584]\n",
      " [262.40745618  27.70451573   6.83936689 729.97558807 293.70570422]]\n",
      "First 5 labels: tensor([0, 0, 0, 0, 0])\n"
     ]
    }
   ],
   "source": [
    "# Print the first 5 rows of the data array\n",
    "print(\"First 5 rows of data:\\n\", data[:5])\n",
    "print(\"First 5 labels:\", y[:5])"
   ]
  },
  {
   "cell_type": "markdown",
   "id": "5c53787c-f8dd-4477-a169-2af3f0589174",
   "metadata": {},
   "source": [
    "## 5. Model Definition\n",
    "Defines a feedforward neural network (`ExpertiseNet`) with one hidden layer: 5 input features → 10 hidden units (ReLU activation) → 2 output classes. Uses CrossEntropyLoss and Adam optimizer with a learning rate of 0.01.## Defined a simple feedforward network with one hidden layer. ReLU activation for non-linearity."
   ]
  },
  {
   "cell_type": "code",
   "execution_count": 28,
   "id": "8514a314-9bfb-470d-80ee-10503b695e34",
   "metadata": {},
   "outputs": [],
   "source": [
    "# Define the model\n",
    "class ExpertiseNet(nn.Module):\n",
    "    def __init__(self):\n",
    "        super().__init__()\n",
    "        self.fc1 = nn.Linear(5, 10)  # 5 input features\n",
    "        self.fc2 = nn.Linear(10, 2)  # 2 output classes\n",
    "    def forward(self, x):\n",
    "        x = torch.relu(self.fc1(x))\n",
    "        x = self.fc2(x)\n",
    "        return x\n",
    "\n",
    "model = ExpertiseNet()\n",
    "criterion = nn.CrossEntropyLoss()\n",
    "optimizer = torch.optim.Adam(model.parameters(), lr=0.01)\n"
   ]
  },
  {
   "cell_type": "markdown",
   "id": "e9546d32-d35c-4dad-a62e-b859921d315f",
   "metadata": {},
   "source": [
    "## 6. Model Training\n",
    "Trains the model for 50 epochs using the Adam optimizer on the training set. Tracks and plots the training loss over time to assess convergence."
   ]
  },
  {
   "cell_type": "code",
   "execution_count": 33,
   "id": "2b32efb4-860b-43d4-a1c0-e6594139092a",
   "metadata": {},
   "outputs": [
    {
     "data": {
      "image/png": "[encoded data removed]",
      "text/plain": [
       "<Figure size 640x480 with 1 Axes>"
      ]
     },
     "metadata": {},
     "output_type": "display_data"
    }
   ],
   "source": [
    "# Training loop\n",
    "epochs = 50\n",
    "losses = []\n",
    "for epoch in range(epochs):\n",
    "    y_pred = model(X_train)  # Use training data\n",
    "    loss = criterion(y_pred, y_train)\n",
    "    losses.append(loss.item())\n",
    "    optimizer.zero_grad()\n",
    "    loss.backward()\n",
    "    optimizer.step()\n",
    "\n",
    "\n",
    "# Plot loss\n",
    "plt.plot(losses)\n",
    "plt.title(\"Training Loss Over Time\")\n",
    "plt.xlabel(\"Epoch\")\n",
    "plt.ylabel(\"Loss\")\n",
    "plt.show()\n"
   ]
  },
  {
   "cell_type": "markdown",
   "id": "a549186c-9b9a-49a3-a621-5d1820f3df12",
   "metadata": {},
   "source": [
    "## 7. Model Evaluation\n",
    "Evaluates the trained model on the test set (20% of data) to compute accuracy. Note: Test split was already implemented earlier; this section confirms performance (90% test accuracy achieved)."
   ]
  },
  {
   "cell_type": "code",
   "execution_count": 31,
   "id": "47eb7d4f-2cfd-4492-8c6a-ee563de14dd4",
   "metadata": {},
   "outputs": [
    {
     "name": "stdout",
     "output_type": "stream",
     "text": [
      "Test Accuracy: 0.90\n"
     ]
    }
   ],
   "source": [
    "# Evaluate on test set\n",
    "with torch.no_grad():\n",
    "    y_eval = model(X_test)  # Use test data\n",
    "    _, predicted = torch.max(y_eval, 1)\n",
    "    accuracy = (predicted == y_test).float().mean()\n",
    "    print(f\"Test Accuracy: {accuracy.item():.2f}\")"
   ]
  },
  {
   "cell_type": "markdown",
   "id": "7ae42a62-a119-446c-baa5-cc7eb6797186",
   "metadata": {},
   "source": [
    "## 8. Model Validation and Balance Check\n",
    "Compares training vs. test accuracy to assess overfitting and re-checks label balance in the full dataset for reference."
   ]
  },
  {
   "cell_type": "code",
   "execution_count": 32,
   "id": "906fa81e-865f-4a3f-a739-a4c4c7a97170",
   "metadata": {},
   "outputs": [
    {
     "name": "stdout",
     "output_type": "stream",
     "text": [
      "Train Accuracy: 0.94\n",
      "Expert (1) count: 124 out of 500\n"
     ]
    }
   ],
   "source": [
    "\n",
    "# Check #1: Train vs. Test Accuracy\n",
    "with torch.no_grad():\n",
    "    y_train_pred = model(X_train)\n",
    "    _, train_predicted = torch.max(y_train_pred, 1)\n",
    "    train_accuracy = (train_predicted == y_train).float().mean()\n",
    "    print(f\"Train Accuracy: {train_accuracy.item():.2f}\")\n",
    "\n",
    "# Check #2: Label Balance\n",
    "print(\"Expert (1) count:\", y.sum().item(), \"out of 500\")"
   ]
  }
 ],
 "metadata": {
  "kernelspec": {
   "display_name": "Python 3 (ipykernel)",
   "language": "python",
   "name": "python3"
  },
  "language_info": {
   "codemirror_mode": {
    "name": "ipython",
    "version": 3
   },
   "file_extension": ".py",
   "mimetype": "text/x-python",
   "name": "python",
   "nbconvert_exporter": "python",
   "pygments_lexer": "ipython3",
   "version": "3.10.11"
  }
 },
 "nbformat": 4,
 "nbformat_minor": 5
}
